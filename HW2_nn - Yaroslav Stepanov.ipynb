{
  "nbformat": 4,
  "nbformat_minor": 0,
  "metadata": {
    "kernelspec": {
      "display_name": "Python 3",
      "language": "python",
      "name": "python3"
    },
    "language_info": {
      "codemirror_mode": {
        "name": "ipython",
        "version": 3
      },
      "file_extension": ".py",
      "mimetype": "text/x-python",
      "name": "python",
      "nbconvert_exporter": "python",
      "pygments_lexer": "ipython3",
      "version": "3.6.5"
    },
    "colab": {
      "name": "HW2 - Yaroslav Stepanov.ipynb",
      "provenance": [],
      "collapsed_sections": []
    },
    "accelerator": "GPU"
  },
  "cells": [
    {
      "cell_type": "code",
      "metadata": {
        "id": "gz0he0mZyPPY"
      },
      "source": [
        "from google.colab import drive\r\n",
        "import numpy as np\r\n",
        "import cv2, os, torch\r\n",
        "import torch.nn as nn\r\n",
        "from torch.utils.data import DataLoader, Dataset\r\n",
        "from sklearn.metrics import accuracy_score"
      ],
      "execution_count": 1,
      "outputs": []
    },
    {
      "cell_type": "markdown",
      "metadata": {
        "id": "jUFayHI-AtqZ"
      },
      "source": [
        "# Read the images (function from the first seminar)"
      ]
    },
    {
      "cell_type": "code",
      "metadata": {
        "colab": {
          "base_uri": "https://localhost:8080/"
        },
        "id": "TVp2kfJoinA5",
        "outputId": "643b897e-3490-4390-88bd-93148f0446d5"
      },
      "source": [
        "drive.mount('/content/drive')"
      ],
      "execution_count": 2,
      "outputs": [
        {
          "output_type": "stream",
          "text": [
            "Drive already mounted at /content/drive; to attempt to forcibly remount, call drive.mount(\"/content/drive\", force_remount=True).\n"
          ],
          "name": "stdout"
        }
      ]
    },
    {
      "cell_type": "code",
      "metadata": {
        "id": "p_6r-MOKh3MW"
      },
      "source": [
        "def read_files(X, Y, path, ans):\n",
        "  files = os.listdir(path)\n",
        "  for name in files:\n",
        "    img = cv2.imread(path + '/' + name, 0)\n",
        "    if img.shape != 0:\n",
        "      img = cv2.resize(img, (256, 256))\n",
        "      vect = img.reshape(1, 256 ** 2)\n",
        "      vect = vect / 255.\n",
        "      X = vect if (X is None) else np.vstack((X, vect)) \n",
        "      Y = np.append(Y, ans)\n",
        "  return X, Y"
      ],
      "execution_count": 3,
      "outputs": []
    },
    {
      "cell_type": "code",
      "metadata": {
        "id": "tN2D8Lxyh3MX"
      },
      "source": [
        "path = \"/content/drive/MyDrive/lesson1_dataset\"\n",
        "X = None\n",
        "Y = np.array([])\n",
        "X, Y = read_files(X, Y, path + \"/logloss_0\", 0)\n",
        "X, Y = read_files(X, Y, path + \"/logloss_1\", 1)"
      ],
      "execution_count": 4,
      "outputs": []
    },
    {
      "cell_type": "markdown",
      "metadata": {
        "id": "0BxQHASUA6QW"
      },
      "source": [
        "# Create the dataset\r\n"
      ]
    },
    {
      "cell_type": "code",
      "metadata": {
        "id": "2Fn7KSHth3MY"
      },
      "source": [
        "class CreateDataset(Dataset):\n",
        "    def __init__(self, X, Y):\n",
        "        self.x = torch.from_numpy(X)\n",
        "        self.y = torch.from_numpy(Y)\n",
        "\n",
        "    def __getitem__(self, idx):\n",
        "        return self.x[idx], self.y[idx]\n",
        "      \n",
        "    def __len__(self):\n",
        "        return self.x.shape[0]"
      ],
      "execution_count": 5,
      "outputs": []
    },
    {
      "cell_type": "code",
      "metadata": {
        "id": "K87R9_fyh3MZ"
      },
      "source": [
        "np.random.seed(1)\n",
        "dataset = CreateDataset(X, Y)\n",
        "train, test = torch.utils.data.random_split(dataset, [round(0.8*len(dataset)), round(0.2*len(dataset))])"
      ],
      "execution_count": 6,
      "outputs": []
    },
    {
      "cell_type": "code",
      "metadata": {
        "id": "05I8J4p0h3MZ"
      },
      "source": [
        "train_loader = DataLoader(dataset=train, batch_size=16, shuffle=True)\r\n",
        "test_loader = DataLoader(dataset=test, shuffle=True)"
      ],
      "execution_count": 7,
      "outputs": []
    },
    {
      "cell_type": "code",
      "metadata": {
        "colab": {
          "base_uri": "https://localhost:8080/"
        },
        "id": "KNVO4TaN0r5F",
        "outputId": "f009a4bf-8c5d-452f-fd42-b02a8cb66f23"
      },
      "source": [
        "for x,y in train_loader:\r\n",
        "  print(x.view(x.shape[0], -1).shape, y.shape)\r\n",
        "  break"
      ],
      "execution_count": 8,
      "outputs": [
        {
          "output_type": "stream",
          "text": [
            "torch.Size([16, 65536]) torch.Size([16])\n"
          ],
          "name": "stdout"
        }
      ]
    },
    {
      "cell_type": "markdown",
      "metadata": {
        "id": "__9Pxeq2Ywts"
      },
      "source": [
        "# Configure the model"
      ]
    },
    {
      "cell_type": "code",
      "metadata": {
        "id": "SEuq2qLRh3MZ"
      },
      "source": [
        "model = nn.Sequential(\n",
        "    nn.Linear(65536, 2048),\n",
        "    nn.BatchNorm1d(2048),\n",
        "    nn.Dropout(0.5),\n",
        "    nn.ReLU(),\n",
        "    nn.Linear(2048, 2048),\n",
        "    nn.BatchNorm1d(2048),\n",
        "    nn.ReLU(),\n",
        "    nn.Linear(2048, 2048),\n",
        "    nn.BatchNorm1d(2048),\n",
        "    nn.ReLU(),\n",
        "    nn.Linear(2048,2048),\n",
        "    nn.BatchNorm1d(2048),\n",
        "    nn.Dropout(0.5),\n",
        "    nn.ReLU(),\n",
        "    nn.Linear(2048, 2),\n",
        "    nn.Softmax()\n",
        ")"
      ],
      "execution_count": 9,
      "outputs": []
    },
    {
      "cell_type": "code",
      "metadata": {
        "id": "4kP1u2ICh3Ma"
      },
      "source": [
        "criterion = nn.CrossEntropyLoss()\n",
        "optimizer = torch.optim.Adam(model.parameters())"
      ],
      "execution_count": 10,
      "outputs": []
    },
    {
      "cell_type": "code",
      "metadata": {
        "colab": {
          "base_uri": "https://localhost:8080/"
        },
        "id": "-4tvDmU-26ai",
        "outputId": "91850782-a57d-4786-877f-9487b27906f4"
      },
      "source": [
        "model.cuda()"
      ],
      "execution_count": 11,
      "outputs": [
        {
          "output_type": "execute_result",
          "data": {
            "text/plain": [
              "Sequential(\n",
              "  (0): Linear(in_features=65536, out_features=2048, bias=True)\n",
              "  (1): BatchNorm1d(2048, eps=1e-05, momentum=0.1, affine=True, track_running_stats=True)\n",
              "  (2): Dropout(p=0.5, inplace=False)\n",
              "  (3): ReLU()\n",
              "  (4): Linear(in_features=2048, out_features=2048, bias=True)\n",
              "  (5): BatchNorm1d(2048, eps=1e-05, momentum=0.1, affine=True, track_running_stats=True)\n",
              "  (6): ReLU()\n",
              "  (7): Linear(in_features=2048, out_features=2048, bias=True)\n",
              "  (8): BatchNorm1d(2048, eps=1e-05, momentum=0.1, affine=True, track_running_stats=True)\n",
              "  (9): ReLU()\n",
              "  (10): Linear(in_features=2048, out_features=2048, bias=True)\n",
              "  (11): BatchNorm1d(2048, eps=1e-05, momentum=0.1, affine=True, track_running_stats=True)\n",
              "  (12): Dropout(p=0.5, inplace=False)\n",
              "  (13): ReLU()\n",
              "  (14): Linear(in_features=2048, out_features=2, bias=True)\n",
              "  (15): Softmax(dim=None)\n",
              ")"
            ]
          },
          "metadata": {
            "tags": []
          },
          "execution_count": 11
        }
      ]
    },
    {
      "cell_type": "markdown",
      "metadata": {
        "id": "O9OEicNvY36V"
      },
      "source": [
        "# Training"
      ]
    },
    {
      "cell_type": "code",
      "metadata": {
        "colab": {
          "base_uri": "https://localhost:8080/"
        },
        "id": "KwXd0MqC3f_Z",
        "outputId": "c5978175-bcf9-4708-a5a9-66da0ce8167d"
      },
      "source": [
        "epochs = 20\r\n",
        "model.train()\r\n",
        "for i in range(epochs):\r\n",
        "    for j, (x, y) in enumerate(train_loader):\r\n",
        "        optimizer.zero_grad()\r\n",
        "        x = x.view(x.shape[0], -1)\r\n",
        "        x = x.cuda()\r\n",
        "        y = y.cuda()\r\n",
        "        y_pred = model(x.float())\r\n",
        "        loss = criterion(y_pred, y.long())\r\n",
        "        print(f\"Epoch {i}\\t iter {j}\\t loss {loss}\")\r\n",
        "        loss.backward()\r\n",
        "        optimizer.step()"
      ],
      "execution_count": 12,
      "outputs": [
        {
          "output_type": "stream",
          "text": [
            "/usr/local/lib/python3.6/dist-packages/torch/nn/modules/container.py:117: UserWarning: Implicit dimension choice for softmax has been deprecated. Change the call to include dim=X as an argument.\n",
            "  input = module(input)\n"
          ],
          "name": "stderr"
        },
        {
          "output_type": "stream",
          "text": [
            "Epoch 0\t iter 0\t loss 0.6572994589805603\n",
            "Epoch 0\t iter 1\t loss 0.5254168510437012\n",
            "Epoch 0\t iter 2\t loss 0.3589804768562317\n",
            "Epoch 0\t iter 3\t loss 0.5217317938804626\n",
            "Epoch 1\t iter 0\t loss 0.5469618439674377\n",
            "Epoch 1\t iter 1\t loss 0.3879917562007904\n",
            "Epoch 1\t iter 2\t loss 0.4894407391548157\n",
            "Epoch 1\t iter 3\t loss 0.31327298283576965\n",
            "Epoch 2\t iter 0\t loss 0.49811315536499023\n",
            "Epoch 2\t iter 1\t loss 0.3730299472808838\n",
            "Epoch 2\t iter 2\t loss 0.37833499908447266\n",
            "Epoch 2\t iter 3\t loss 0.5633803606033325\n",
            "Epoch 3\t iter 0\t loss 0.4455563426017761\n",
            "Epoch 3\t iter 1\t loss 0.47449222207069397\n",
            "Epoch 3\t iter 2\t loss 0.4343473017215729\n",
            "Epoch 3\t iter 3\t loss 0.5711500644683838\n",
            "Epoch 4\t iter 0\t loss 0.3688523471355438\n",
            "Epoch 4\t iter 1\t loss 0.37728050351142883\n",
            "Epoch 4\t iter 2\t loss 0.46270787715911865\n",
            "Epoch 4\t iter 3\t loss 0.5044106245040894\n",
            "Epoch 5\t iter 0\t loss 0.4518081545829773\n",
            "Epoch 5\t iter 1\t loss 0.3159264922142029\n",
            "Epoch 5\t iter 2\t loss 0.3764341175556183\n",
            "Epoch 5\t iter 3\t loss 0.7146843671798706\n",
            "Epoch 6\t iter 0\t loss 0.39910557866096497\n",
            "Epoch 6\t iter 1\t loss 0.3561722934246063\n",
            "Epoch 6\t iter 2\t loss 0.3683589994907379\n",
            "Epoch 6\t iter 3\t loss 0.5638160705566406\n",
            "Epoch 7\t iter 0\t loss 0.31502851843833923\n",
            "Epoch 7\t iter 1\t loss 0.4620009660720825\n",
            "Epoch 7\t iter 2\t loss 0.33126240968704224\n",
            "Epoch 7\t iter 3\t loss 0.3868955969810486\n",
            "Epoch 8\t iter 0\t loss 0.4795559346675873\n",
            "Epoch 8\t iter 1\t loss 0.34585002064704895\n",
            "Epoch 8\t iter 2\t loss 0.36920568346977234\n",
            "Epoch 8\t iter 3\t loss 0.5628471374511719\n",
            "Epoch 9\t iter 0\t loss 0.3749336898326874\n",
            "Epoch 9\t iter 1\t loss 0.3132951557636261\n",
            "Epoch 9\t iter 2\t loss 0.4352795481681824\n",
            "Epoch 9\t iter 3\t loss 0.3132992386817932\n",
            "Epoch 10\t iter 0\t loss 0.31454357504844666\n",
            "Epoch 10\t iter 1\t loss 0.4150834381580353\n",
            "Epoch 10\t iter 2\t loss 0.4095011353492737\n",
            "Epoch 10\t iter 3\t loss 0.5631428360939026\n",
            "Epoch 11\t iter 0\t loss 0.37777575850486755\n",
            "Epoch 11\t iter 1\t loss 0.5640539526939392\n",
            "Epoch 11\t iter 2\t loss 0.3147273063659668\n",
            "Epoch 11\t iter 3\t loss 0.5641259551048279\n",
            "Epoch 12\t iter 0\t loss 0.41222891211509705\n",
            "Epoch 12\t iter 1\t loss 0.5009142756462097\n",
            "Epoch 12\t iter 2\t loss 0.3133174479007721\n",
            "Epoch 12\t iter 3\t loss 0.31327205896377563\n",
            "Epoch 13\t iter 0\t loss 0.31412893533706665\n",
            "Epoch 13\t iter 1\t loss 0.31390100717544556\n",
            "Epoch 13\t iter 2\t loss 0.4682944715023041\n",
            "Epoch 13\t iter 3\t loss 0.8066140413284302\n",
            "Epoch 14\t iter 0\t loss 0.31338104605674744\n",
            "Epoch 14\t iter 1\t loss 0.4227094054222107\n",
            "Epoch 14\t iter 2\t loss 0.3791202902793884\n",
            "Epoch 14\t iter 3\t loss 0.3463093340396881\n",
            "Epoch 15\t iter 0\t loss 0.376575767993927\n",
            "Epoch 15\t iter 1\t loss 0.313591867685318\n",
            "Epoch 15\t iter 2\t loss 0.3134649395942688\n",
            "Epoch 15\t iter 3\t loss 0.5665753483772278\n",
            "Epoch 16\t iter 0\t loss 0.31963446736335754\n",
            "Epoch 16\t iter 1\t loss 0.3771517872810364\n",
            "Epoch 16\t iter 2\t loss 0.32817715406417847\n",
            "Epoch 16\t iter 3\t loss 0.5342063307762146\n",
            "Epoch 17\t iter 0\t loss 0.31791114807128906\n",
            "Epoch 17\t iter 1\t loss 0.3771943747997284\n",
            "Epoch 17\t iter 2\t loss 0.45763033628463745\n",
            "Epoch 17\t iter 3\t loss 0.3142550587654114\n",
            "Epoch 18\t iter 0\t loss 0.4344926178455353\n",
            "Epoch 18\t iter 1\t loss 0.31849730014801025\n",
            "Epoch 18\t iter 2\t loss 0.313823401927948\n",
            "Epoch 18\t iter 3\t loss 0.5837380886077881\n",
            "Epoch 19\t iter 0\t loss 0.47479432821273804\n",
            "Epoch 19\t iter 1\t loss 0.3368145823478699\n",
            "Epoch 19\t iter 2\t loss 0.31438422203063965\n",
            "Epoch 19\t iter 3\t loss 0.5644540786743164\n"
          ],
          "name": "stdout"
        }
      ]
    },
    {
      "cell_type": "markdown",
      "metadata": {
        "id": "cv0c549EY7b0"
      },
      "source": [
        "# Evaluation of the model"
      ]
    },
    {
      "cell_type": "code",
      "metadata": {
        "colab": {
          "base_uri": "https://localhost:8080/"
        },
        "id": "VYgoNYVT4nqO",
        "outputId": "3b776c53-f08e-4a79-df4e-bcc6416c9543"
      },
      "source": [
        "model.eval()\r\n",
        "y_true = []; y_pred = []\r\n",
        "for x, y in test_loader:\r\n",
        "  x = x.cuda()\r\n",
        "  y = y.cuda()\r\n",
        "  y_pred.append(round(model(x.float()).data[0][1].item()))\r\n",
        "  y_true.append(int(y))\r\n",
        "\r\n",
        "print('The accuracy of the model is:', accuracy_score(y_true, y_pred))"
      ],
      "execution_count": 13,
      "outputs": [
        {
          "output_type": "stream",
          "text": [
            "The accuracy of the model is: 0.9230769230769231\n"
          ],
          "name": "stdout"
        },
        {
          "output_type": "stream",
          "text": [
            "/usr/local/lib/python3.6/dist-packages/torch/nn/modules/container.py:117: UserWarning: Implicit dimension choice for softmax has been deprecated. Change the call to include dim=X as an argument.\n",
            "  input = module(input)\n"
          ],
          "name": "stderr"
        }
      ]
    }
  ]
}