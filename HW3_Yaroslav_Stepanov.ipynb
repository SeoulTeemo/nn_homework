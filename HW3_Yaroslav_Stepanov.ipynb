{
  "nbformat": 4,
  "nbformat_minor": 0,
  "metadata": {
    "kernelspec": {
      "display_name": "Python 3",
      "language": "python",
      "name": "python3"
    },
    "language_info": {
      "codemirror_mode": {
        "name": "ipython",
        "version": 3
      },
      "file_extension": ".py",
      "mimetype": "text/x-python",
      "name": "python",
      "nbconvert_exporter": "python",
      "pygments_lexer": "ipython3",
      "version": "3.6.5"
    },
    "colab": {
      "name": "HW3 - Yaroslav Stepanov.ipynb",
      "provenance": [],
      "collapsed_sections": []
    },
    "accelerator": "GPU"
  },
  "cells": [
    {
      "cell_type": "code",
      "metadata": {
        "id": "gz0he0mZyPPY"
      },
      "source": [
        "from google.colab import drive\r\n",
        "import numpy as np\r\n",
        "import cv2, os, torch\r\n",
        "import torch.nn as nn\r\n",
        "from torch.utils.data import DataLoader, Dataset\r\n",
        "from sklearn.metrics import accuracy_score"
      ],
      "execution_count": 1,
      "outputs": []
    },
    {
      "cell_type": "markdown",
      "metadata": {
        "id": "jUFayHI-AtqZ"
      },
      "source": [
        "# Read the images (function from the first seminar)"
      ]
    },
    {
      "cell_type": "code",
      "metadata": {
        "colab": {
          "base_uri": "https://localhost:8080/"
        },
        "id": "TVp2kfJoinA5",
        "outputId": "9b09216a-64b7-4130-b8f6-35f55613ffaf"
      },
      "source": [
        "drive.mount('/content/drive')"
      ],
      "execution_count": 2,
      "outputs": [
        {
          "output_type": "stream",
          "text": [
            "Mounted at /content/drive\n"
          ],
          "name": "stdout"
        }
      ]
    },
    {
      "cell_type": "code",
      "metadata": {
        "id": "tN2D8Lxyh3MX"
      },
      "source": [
        "!unzip -q \"/content/drive/MyDrive/tiny-imagenet-2020.zip\""
      ],
      "execution_count": 3,
      "outputs": []
    },
    {
      "cell_type": "code",
      "metadata": {
        "id": "I9GneHKiBJCR"
      },
      "source": [
        "def read_files(X, Y, path, ans):\r\n",
        "  files = os.listdir(path)\r\n",
        "  for name in files:\r\n",
        "    img = cv2.imread(path + '/' + name, 0)\r\n",
        "    if img.shape != 0:\r\n",
        "      img = cv2.resize(img, (224, 224))\r\n",
        "      vect = img.reshape(1, 224 ** 2)\r\n",
        "      vect = vect / 223.\r\n",
        "      X = vect if (X is None) else np.vstack((X, vect)) \r\n",
        "      Y = np.append(Y, ans)\r\n",
        "  return X, Y\r\n",
        "\r\n",
        "# from torchvision import transforms\r\n",
        "# from PIL import Image\r\n",
        "# def read_files(X, Y, path, ans):\r\n",
        "#   files = os.listdir(path)\r\n",
        "#   for name in files:\r\n",
        "#     input_image = Image.open(path + '/' + name)\r\n",
        "#     preprocess = transforms.Compose([\r\n",
        "#     transforms.Resize(256),\r\n",
        "#     transforms.CenterCrop(224),\r\n",
        "#     transforms.ToTensor(),\r\n",
        "#     transforms.Normalize(mean=[0.485], std=[0.229]),\r\n",
        "#     ])\r\n",
        "#     input_tensor = preprocess(input_image)\r\n",
        "#     input_batch = input_tensor.unsqueeze(0)\r\n",
        "#     #X = input_batch if (X is None) else np.vstack((X, input_batch))\r\n",
        "#     X = np.vstack((X, input_batch))\r\n",
        "#     Y = np.append(Y, ans)\r\n",
        "#   return X, Y\r\n",
        "  "
      ],
      "execution_count": 60,
      "outputs": []
    },
    {
      "cell_type": "code",
      "metadata": {
        "id": "oAK7-YUs_6QK"
      },
      "source": [
        "import os\r\n",
        "\r\n",
        "X_train = None; X_test = None\r\n",
        "Y_train = np.array([]); Y_test = np.array([])\r\n",
        "\r\n",
        "for i in range(0, 5):\r\n",
        "  ind = str(i).zfill(3)\r\n",
        "  path_train = 'tiny-imagenet-200/train/class_' + ind\r\n",
        "  path_test = 'tiny-imagenet-200/val/class_' + ind\r\n",
        "\r\n",
        "  X_train, Y_train = read_files(X_train, Y_train, path_train, ind)\r\n",
        "  X_test, Y_test = read_files(X_test, Y_test, path_test, ind)"
      ],
      "execution_count": 61,
      "outputs": []
    },
    {
      "cell_type": "code",
      "metadata": {
        "colab": {
          "base_uri": "https://localhost:8080/"
        },
        "id": "2ZiQArkeFMWl",
        "outputId": "dc3fb37a-b7cf-4909-aa89-a6f49efd000d"
      },
      "source": [
        "type(X_train)"
      ],
      "execution_count": 46,
      "outputs": [
        {
          "output_type": "execute_result",
          "data": {
            "text/plain": [
              "torch.Tensor"
            ]
          },
          "metadata": {
            "tags": []
          },
          "execution_count": 46
        }
      ]
    },
    {
      "cell_type": "markdown",
      "metadata": {
        "id": "0BxQHASUA6QW"
      },
      "source": [
        "# Create the dataset\r\n"
      ]
    },
    {
      "cell_type": "code",
      "metadata": {
        "id": "2Fn7KSHth3MY"
      },
      "source": [
        "class CreateDataset(Dataset):\n",
        "    def __init__(self, X, Y):\n",
        "        self.x = X\n",
        "        self.y = Y\n",
        "\n",
        "    def __getitem__(self, idx):\n",
        "        return self.x[idx], self.y[idx]\n",
        "      \n",
        "    def __len__(self):\n",
        "        return self.x.shape[0]"
      ],
      "execution_count": 50,
      "outputs": []
    },
    {
      "cell_type": "code",
      "metadata": {
        "id": "K87R9_fyh3MZ"
      },
      "source": [
        "np.random.seed(1)\n",
        "dataset_train = CreateDataset(X_train, Y_train)\n",
        "dataset_test = CreateDataset(X_test, Y_test)"
      ],
      "execution_count": 51,
      "outputs": []
    },
    {
      "cell_type": "code",
      "metadata": {
        "id": "05I8J4p0h3MZ"
      },
      "source": [
        "train_loader = DataLoader(dataset=dataset_train, batch_size=16, shuffle=True)\r\n",
        "test_loader = DataLoader(dataset=dataset_test, shuffle=True)"
      ],
      "execution_count": 52,
      "outputs": []
    },
    {
      "cell_type": "code",
      "metadata": {
        "id": "KNVO4TaN0r5F",
        "colab": {
          "base_uri": "https://localhost:8080/",
          "height": 195
        },
        "outputId": "d190843b-fee4-4a29-84f2-d0bd6f2ec51d"
      },
      "source": [
        "for x,y in train_loader:\r\n",
        "  print(x.view(x.shape[0], -1).shape, y.shape)\r\n",
        "  break"
      ],
      "execution_count": 53,
      "outputs": [
        {
          "output_type": "error",
          "ename": "AttributeError",
          "evalue": "ignored",
          "traceback": [
            "\u001b[0;31m---------------------------------------------------------------------------\u001b[0m",
            "\u001b[0;31mAttributeError\u001b[0m                            Traceback (most recent call last)",
            "\u001b[0;32m<ipython-input-53-4d0e8eb84606>\u001b[0m in \u001b[0;36m<module>\u001b[0;34m()\u001b[0m\n\u001b[1;32m      1\u001b[0m \u001b[0;32mfor\u001b[0m \u001b[0mx\u001b[0m\u001b[0;34m,\u001b[0m\u001b[0my\u001b[0m \u001b[0;32min\u001b[0m \u001b[0mtrain_loader\u001b[0m\u001b[0;34m:\u001b[0m\u001b[0;34m\u001b[0m\u001b[0;34m\u001b[0m\u001b[0m\n\u001b[0;32m----> 2\u001b[0;31m   \u001b[0mprint\u001b[0m\u001b[0;34m(\u001b[0m\u001b[0mx\u001b[0m\u001b[0;34m.\u001b[0m\u001b[0mview\u001b[0m\u001b[0;34m(\u001b[0m\u001b[0mx\u001b[0m\u001b[0;34m.\u001b[0m\u001b[0mshape\u001b[0m\u001b[0;34m[\u001b[0m\u001b[0;36m0\u001b[0m\u001b[0;34m]\u001b[0m\u001b[0;34m,\u001b[0m \u001b[0;34m-\u001b[0m\u001b[0;36m1\u001b[0m\u001b[0;34m)\u001b[0m\u001b[0;34m.\u001b[0m\u001b[0mshape\u001b[0m\u001b[0;34m,\u001b[0m \u001b[0my\u001b[0m\u001b[0;34m.\u001b[0m\u001b[0mshape\u001b[0m\u001b[0;34m)\u001b[0m\u001b[0;34m\u001b[0m\u001b[0;34m\u001b[0m\u001b[0m\n\u001b[0m\u001b[1;32m      3\u001b[0m   \u001b[0;32mbreak\u001b[0m\u001b[0;34m\u001b[0m\u001b[0;34m\u001b[0m\u001b[0m\n",
            "\u001b[0;31mAttributeError\u001b[0m: 'tuple' object has no attribute 'shape'"
          ]
        }
      ]
    },
    {
      "cell_type": "markdown",
      "metadata": {
        "id": "__9Pxeq2Ywts"
      },
      "source": [
        "# Set the model"
      ]
    },
    {
      "cell_type": "code",
      "metadata": {
        "id": "SEuq2qLRh3MZ"
      },
      "source": [
        "import torchvision.models as models\n",
        "\n",
        "model = models.resnet152()\n",
        "criterion = nn.CrossEntropyLoss()\n",
        "optimizer = torch.optim.Adam(model.parameters())"
      ],
      "execution_count": 54,
      "outputs": []
    },
    {
      "cell_type": "markdown",
      "metadata": {
        "id": "O9OEicNvY36V"
      },
      "source": [
        "# Training"
      ]
    },
    {
      "cell_type": "code",
      "metadata": {
        "id": "KwXd0MqC3f_Z",
        "colab": {
          "base_uri": "https://localhost:8080/",
          "height": 229
        },
        "outputId": "0017b091-c94a-4eea-b22e-910f31f97f94"
      },
      "source": [
        "# epochs = 20\r\n",
        "# model.train()\r\n",
        "# for i in range(epochs):\r\n",
        "#     for j, (x, y) in enumerate(train_loader):\r\n",
        "#         optimizer.zero_grad()\r\n",
        "#         x = x.view(x.shape[0], -1)\r\n",
        "#         x = x.cuda()\r\n",
        "#         y = y.cuda()\r\n",
        "#         y_pred = model(x)\r\n",
        "#         loss = criterion(y_pred, y.long())\r\n",
        "#         print(f\"Epoch {i}\\t iter {j}\\t loss {loss}\")\r\n",
        "#         loss.backward()\r\n",
        "#         optimizer.step()"
      ],
      "execution_count": 55,
      "outputs": [
        {
          "output_type": "error",
          "ename": "AttributeError",
          "evalue": "ignored",
          "traceback": [
            "\u001b[0;31m---------------------------------------------------------------------------\u001b[0m",
            "\u001b[0;31mAttributeError\u001b[0m                            Traceback (most recent call last)",
            "\u001b[0;32m<ipython-input-55-b18cf3183333>\u001b[0m in \u001b[0;36m<module>\u001b[0;34m()\u001b[0m\n\u001b[1;32m      6\u001b[0m         \u001b[0mx\u001b[0m \u001b[0;34m=\u001b[0m \u001b[0mx\u001b[0m\u001b[0;34m.\u001b[0m\u001b[0mview\u001b[0m\u001b[0;34m(\u001b[0m\u001b[0mx\u001b[0m\u001b[0;34m.\u001b[0m\u001b[0mshape\u001b[0m\u001b[0;34m[\u001b[0m\u001b[0;36m0\u001b[0m\u001b[0;34m]\u001b[0m\u001b[0;34m,\u001b[0m \u001b[0;34m-\u001b[0m\u001b[0;36m1\u001b[0m\u001b[0;34m)\u001b[0m\u001b[0;34m\u001b[0m\u001b[0;34m\u001b[0m\u001b[0m\n\u001b[1;32m      7\u001b[0m         \u001b[0mx\u001b[0m \u001b[0;34m=\u001b[0m \u001b[0mx\u001b[0m\u001b[0;34m.\u001b[0m\u001b[0mcuda\u001b[0m\u001b[0;34m(\u001b[0m\u001b[0;34m)\u001b[0m\u001b[0;34m\u001b[0m\u001b[0;34m\u001b[0m\u001b[0m\n\u001b[0;32m----> 8\u001b[0;31m         \u001b[0my\u001b[0m \u001b[0;34m=\u001b[0m \u001b[0my\u001b[0m\u001b[0;34m.\u001b[0m\u001b[0mcuda\u001b[0m\u001b[0;34m(\u001b[0m\u001b[0;34m)\u001b[0m\u001b[0;34m\u001b[0m\u001b[0;34m\u001b[0m\u001b[0m\n\u001b[0m\u001b[1;32m      9\u001b[0m         \u001b[0my_pred\u001b[0m \u001b[0;34m=\u001b[0m \u001b[0mmodel\u001b[0m\u001b[0;34m(\u001b[0m\u001b[0mx\u001b[0m\u001b[0;34m)\u001b[0m\u001b[0;34m\u001b[0m\u001b[0;34m\u001b[0m\u001b[0m\n\u001b[1;32m     10\u001b[0m         \u001b[0mloss\u001b[0m \u001b[0;34m=\u001b[0m \u001b[0mcriterion\u001b[0m\u001b[0;34m(\u001b[0m\u001b[0my_pred\u001b[0m\u001b[0;34m,\u001b[0m \u001b[0my\u001b[0m\u001b[0;34m.\u001b[0m\u001b[0mlong\u001b[0m\u001b[0;34m(\u001b[0m\u001b[0;34m)\u001b[0m\u001b[0;34m)\u001b[0m\u001b[0;34m\u001b[0m\u001b[0;34m\u001b[0m\u001b[0m\n",
            "\u001b[0;31mAttributeError\u001b[0m: 'tuple' object has no attribute 'cuda'"
          ]
        }
      ]
    },
    {
      "cell_type": "markdown",
      "metadata": {
        "id": "cv0c549EY7b0"
      },
      "source": [
        "# Evaluation of the model"
      ]
    },
    {
      "cell_type": "code",
      "metadata": {
        "id": "VYgoNYVT4nqO"
      },
      "source": [
        "# model.eval()\r\n",
        "# y_true = []; y_pred = []\r\n",
        "# for x, y in test_loader:\r\n",
        "#   x = x.cuda()\r\n",
        "#   y = y.cuda()\r\n",
        "#   y_pred.append(round(model(x.float()).data[0][1].item()))\r\n",
        "#   y_true.append(int(y))\r\n",
        "\r\n",
        "# print('The accuracy of the model is:', accuracy_score(y_true, y_pred))"
      ],
      "execution_count": null,
      "outputs": []
    }
  ]
}